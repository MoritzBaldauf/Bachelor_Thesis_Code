{
 "cells": [
  {
   "cell_type": "code",
   "execution_count": 2,
   "metadata": {},
   "outputs": [],
   "source": [
    "import pandas as pd\n",
    "import matplotlib as plt"
   ]
  },
  {
   "cell_type": "code",
   "execution_count": 3,
   "metadata": {},
   "outputs": [],
   "source": [
    "transactions = pd.read_csv(\"./data/amazon-purchases.csv\")"
   ]
  },
  {
   "cell_type": "code",
   "execution_count": 4,
   "metadata": {},
   "outputs": [
    {
     "name": "stdout",
     "output_type": "stream",
     "text": [
      "   Order Date  Purchase Price Per Unit  Quantity Shipping Address State  \\\n",
      "0  2018-12-04                     7.98       1.0                     NJ   \n",
      "1  2018-12-22                    13.99       1.0                     NJ   \n",
      "2  2018-12-24                     8.99       1.0                     NJ   \n",
      "3  2018-12-25                    10.45       1.0                     NJ   \n",
      "4  2018-12-25                    10.00       1.0                     NJ   \n",
      "\n",
      "                                               Title ASIN/ISBN (Product Code)  \\\n",
      "0  SanDisk Ultra 16GB Class 10 SDHC UHS-I Memory ...               B0143RTB1E   \n",
      "1  Betron BS10 Earphones Wired Headphones in Ear ...               B01MA1MJ6H   \n",
      "2                                                NaN               B078JZTFN3   \n",
      "3  Perfecto Stainless Steel Shaving Bowl. Durable...               B06XWF9HML   \n",
      "4                      Proraso Shaving Cream for Men               B00837ZOI0   \n",
      "\n",
      "        Category  Survey ResponseID  \n",
      "0   FLASH_MEMORY  R_01vNIayewjIIKMF  \n",
      "1     HEADPHONES  R_01vNIayewjIIKMF  \n",
      "2            NaN  R_01vNIayewjIIKMF  \n",
      "3  DISHWARE_BOWL  R_01vNIayewjIIKMF  \n",
      "4  SHAVING_AGENT  R_01vNIayewjIIKMF  \n"
     ]
    }
   ],
   "source": [
    "print(transactions.head())"
   ]
  },
  {
   "cell_type": "code",
   "execution_count": 5,
   "metadata": {},
   "outputs": [],
   "source": [
    "transactions[\"Order Date\"] = pd.to_datetime(transactions[\"Order Date\"])"
   ]
  },
  {
   "cell_type": "code",
   "execution_count": 6,
   "metadata": {},
   "outputs": [],
   "source": [
    "transactions_sorted = transactions.sort_values([\"Survey ResponseID\", \"Order Date\"], ascending=[True, True])"
   ]
  },
  {
   "cell_type": "markdown",
   "metadata": {},
   "source": [
    "## Adding customer information"
   ]
  },
  {
   "cell_type": "code",
   "execution_count": 7,
   "metadata": {},
   "outputs": [],
   "source": [
    "customers = pd.read_csv(\"./data/survey.csv\")"
   ]
  },
  {
   "cell_type": "markdown",
   "metadata": {},
   "source": [
    "### Formating Living state to match with Temperature Table\n",
    "We use the living state of customer table to fill in missing values in the transaction table -> need to be in the same format"
   ]
  },
  {
   "cell_type": "code",
   "execution_count": 8,
   "metadata": {},
   "outputs": [],
   "source": [
    "# Create a dictionary of state name mappings\n",
    "state_abbrev = {\n",
    "    'Alabama': 'AL',\n",
    "    'Alaska': 'AK',\n",
    "    'Arizona': 'AZ',\n",
    "    'Arkansas': 'AR',\n",
    "    'California': 'CA',\n",
    "    'Colorado': 'CO',\n",
    "    'Connecticut': 'CT',\n",
    "    'Delaware': 'DE',\n",
    "    'District of Columbia': 'DC',\n",
    "    'Florida': 'FL',\n",
    "    'Georgia': 'GA',\n",
    "    'Hawaii': 'HI',\n",
    "    'Idaho': 'ID',\n",
    "    'Illinois': 'IL',\n",
    "    'Indiana': 'IN',\n",
    "    'Iowa': 'IA',\n",
    "    'Kansas': 'KS',\n",
    "    'Kentucky': 'KY',\n",
    "    'Louisiana': 'LA',\n",
    "    'Maine': 'ME',\n",
    "    'Maryland': 'MD',\n",
    "    'Massachusetts': 'MA',\n",
    "    'Michigan': 'MI',\n",
    "    'Minnesota': 'MN',\n",
    "    'Mississippi': 'MS',\n",
    "    'Missouri': 'MO',\n",
    "    'Montana': 'MT',\n",
    "    'Nebraska': 'NE',\n",
    "    'Nevada': 'NV',\n",
    "    'New Hampshire': 'NH',\n",
    "    'New Jersey': 'NJ',\n",
    "    'New Mexico': 'NM',\n",
    "    'New York': 'NY',\n",
    "    'North Carolina': 'NC',\n",
    "    'North Dakota': 'ND',\n",
    "    'Ohio': 'OH',\n",
    "    'Oklahoma': 'OK',\n",
    "    'Oregon': 'OR',\n",
    "    'Pennsylvania': 'PA',\n",
    "    'Rhode Island': 'RI',\n",
    "    'South Carolina': 'SC',\n",
    "    'South Dakota': 'SD',\n",
    "    'Tennessee': 'TN',\n",
    "    'Texas': 'TX',\n",
    "    'Utah': 'UT',\n",
    "    'Vermont': 'VT',\n",
    "    'Virginia': 'VA',\n",
    "    'Washington': 'WA',\n",
    "    'West Virginia': 'WV',\n",
    "    'Wisconsin': 'WI',\n",
    "    'Wyoming': 'WY'\n",
    "}\n",
    "\n",
    "# Assuming your dataframe is called 'df' and the column with state names is called 'state'\n",
    "customers[\"Q-demos-state\"] = customers[\"Q-demos-state\"].replace(state_abbrev)"
   ]
  },
  {
   "cell_type": "markdown",
   "metadata": {},
   "source": [
    "### Mergin Dataframes"
   ]
  },
  {
   "cell_type": "code",
   "execution_count": 9,
   "metadata": {},
   "outputs": [],
   "source": [
    "amazon_data = transactions.merge(customers, on=\"Survey ResponseID\", how=\"left\")"
   ]
  },
  {
   "cell_type": "markdown",
   "metadata": {},
   "source": [
    "### Dealing with missing shipping addresses"
   ]
  },
  {
   "cell_type": "markdown",
   "metadata": {},
   "source": [
    "Most of missing values in \"Shipping Address State\" can be filled by looking at \"Q-demos-state\" from the customer dataset -> we asume that the residence state is the same state as the shipping state "
   ]
  },
  {
   "cell_type": "code",
   "execution_count": 10,
   "metadata": {},
   "outputs": [],
   "source": [
    "amazon_data.loc[amazon_data[\"Shipping Address State\"].isna(), \"Shipping Address State\"] = amazon_data[\"Q-demos-state\"] # Replacing missing Shipping Addresses with living address from ordering customer\n",
    "\n",
    "amazon_data.loc[amazon_data[\"Shipping Address State\"] == \"PR\", \"Shipping Address State\"] = amazon_data[\"Q-demos-state\"] # There is a shipping address state called PR which could be Puerto Rico, we replace this with the living state of the customer ordering"
   ]
  },
  {
   "cell_type": "markdown",
   "metadata": {},
   "source": [
    "## Adding Temperature information"
   ]
  },
  {
   "cell_type": "code",
   "execution_count": 11,
   "metadata": {},
   "outputs": [
    {
     "name": "stdout",
     "output_type": "stream",
     "text": [
      "48\n"
     ]
    },
    {
     "data": {
      "text/html": [
       "<div>\n",
       "<style scoped>\n",
       "    .dataframe tbody tr th:only-of-type {\n",
       "        vertical-align: middle;\n",
       "    }\n",
       "\n",
       "    .dataframe tbody tr th {\n",
       "        vertical-align: top;\n",
       "    }\n",
       "\n",
       "    .dataframe thead th {\n",
       "        text-align: right;\n",
       "    }\n",
       "</style>\n",
       "<table border=\"1\" class=\"dataframe\">\n",
       "  <thead>\n",
       "    <tr style=\"text-align: right;\">\n",
       "      <th></th>\n",
       "      <th>Unnamed: 0</th>\n",
       "      <th>st_abb</th>\n",
       "      <th>st_code</th>\n",
       "      <th>date</th>\n",
       "      <th>stability</th>\n",
       "      <th>ppt</th>\n",
       "      <th>tmin</th>\n",
       "      <th>tmax</th>\n",
       "      <th>tavg</th>\n",
       "    </tr>\n",
       "  </thead>\n",
       "  <tbody>\n",
       "    <tr>\n",
       "      <th>0</th>\n",
       "      <td>1</td>\n",
       "      <td>AL</td>\n",
       "      <td>1</td>\n",
       "      <td>20180101</td>\n",
       "      <td>stable</td>\n",
       "      <td>1.602</td>\n",
       "      <td>-7.569</td>\n",
       "      <td>3.303</td>\n",
       "      <td>-2.133</td>\n",
       "    </tr>\n",
       "    <tr>\n",
       "      <th>1</th>\n",
       "      <td>2</td>\n",
       "      <td>AL</td>\n",
       "      <td>1</td>\n",
       "      <td>20180102</td>\n",
       "      <td>stable</td>\n",
       "      <td>0.002</td>\n",
       "      <td>-9.746</td>\n",
       "      <td>-0.868</td>\n",
       "      <td>-5.307</td>\n",
       "    </tr>\n",
       "    <tr>\n",
       "      <th>2</th>\n",
       "      <td>3</td>\n",
       "      <td>AL</td>\n",
       "      <td>1</td>\n",
       "      <td>20180103</td>\n",
       "      <td>stable</td>\n",
       "      <td>0.000</td>\n",
       "      <td>-9.822</td>\n",
       "      <td>2.161</td>\n",
       "      <td>-3.830</td>\n",
       "    </tr>\n",
       "    <tr>\n",
       "      <th>3</th>\n",
       "      <td>4</td>\n",
       "      <td>AL</td>\n",
       "      <td>1</td>\n",
       "      <td>20180104</td>\n",
       "      <td>stable</td>\n",
       "      <td>0.000</td>\n",
       "      <td>-5.802</td>\n",
       "      <td>4.918</td>\n",
       "      <td>-0.442</td>\n",
       "    </tr>\n",
       "    <tr>\n",
       "      <th>4</th>\n",
       "      <td>5</td>\n",
       "      <td>AL</td>\n",
       "      <td>1</td>\n",
       "      <td>20180105</td>\n",
       "      <td>stable</td>\n",
       "      <td>0.013</td>\n",
       "      <td>-8.308</td>\n",
       "      <td>2.945</td>\n",
       "      <td>-2.681</td>\n",
       "    </tr>\n",
       "  </tbody>\n",
       "</table>\n",
       "</div>"
      ],
      "text/plain": [
       "   Unnamed: 0 st_abb  st_code      date stability    ppt   tmin   tmax   tavg\n",
       "0           1     AL        1  20180101    stable  1.602 -7.569  3.303 -2.133\n",
       "1           2     AL        1  20180102    stable  0.002 -9.746 -0.868 -5.307\n",
       "2           3     AL        1  20180103    stable  0.000 -9.822  2.161 -3.830\n",
       "3           4     AL        1  20180104    stable  0.000 -5.802  4.918 -0.442\n",
       "4           5     AL        1  20180105    stable  0.013 -8.308  2.945 -2.681"
      ]
     },
     "execution_count": 11,
     "metadata": {},
     "output_type": "execute_result"
    }
   ],
   "source": [
    "weather = pd.read_csv(\"./Data/weather_data.csv\")\n",
    "\n",
    "print(weather[\"st_abb\"].nunique()) # No weather information for Alaska and Hawaii\n",
    "weather.head()"
   ]
  },
  {
   "cell_type": "code",
   "execution_count": 12,
   "metadata": {},
   "outputs": [
    {
     "data": {
      "text/html": [
       "<div>\n",
       "<style scoped>\n",
       "    .dataframe tbody tr th:only-of-type {\n",
       "        vertical-align: middle;\n",
       "    }\n",
       "\n",
       "    .dataframe tbody tr th {\n",
       "        vertical-align: top;\n",
       "    }\n",
       "\n",
       "    .dataframe thead th {\n",
       "        text-align: right;\n",
       "    }\n",
       "</style>\n",
       "<table border=\"1\" class=\"dataframe\">\n",
       "  <thead>\n",
       "    <tr style=\"text-align: right;\">\n",
       "      <th></th>\n",
       "      <th>Unnamed: 0</th>\n",
       "      <th>Shipping Address State</th>\n",
       "      <th>st_code</th>\n",
       "      <th>date</th>\n",
       "      <th>stability</th>\n",
       "      <th>ppt</th>\n",
       "      <th>tmin</th>\n",
       "      <th>tmax</th>\n",
       "      <th>tavg</th>\n",
       "    </tr>\n",
       "  </thead>\n",
       "  <tbody>\n",
       "    <tr>\n",
       "      <th>0</th>\n",
       "      <td>1</td>\n",
       "      <td>AL</td>\n",
       "      <td>1</td>\n",
       "      <td>2018-01-01</td>\n",
       "      <td>stable</td>\n",
       "      <td>1.602</td>\n",
       "      <td>-7.569</td>\n",
       "      <td>3.303</td>\n",
       "      <td>-2.133</td>\n",
       "    </tr>\n",
       "    <tr>\n",
       "      <th>1</th>\n",
       "      <td>2</td>\n",
       "      <td>AL</td>\n",
       "      <td>1</td>\n",
       "      <td>2018-01-02</td>\n",
       "      <td>stable</td>\n",
       "      <td>0.002</td>\n",
       "      <td>-9.746</td>\n",
       "      <td>-0.868</td>\n",
       "      <td>-5.307</td>\n",
       "    </tr>\n",
       "    <tr>\n",
       "      <th>2</th>\n",
       "      <td>3</td>\n",
       "      <td>AL</td>\n",
       "      <td>1</td>\n",
       "      <td>2018-01-03</td>\n",
       "      <td>stable</td>\n",
       "      <td>0.000</td>\n",
       "      <td>-9.822</td>\n",
       "      <td>2.161</td>\n",
       "      <td>-3.830</td>\n",
       "    </tr>\n",
       "    <tr>\n",
       "      <th>3</th>\n",
       "      <td>4</td>\n",
       "      <td>AL</td>\n",
       "      <td>1</td>\n",
       "      <td>2018-01-04</td>\n",
       "      <td>stable</td>\n",
       "      <td>0.000</td>\n",
       "      <td>-5.802</td>\n",
       "      <td>4.918</td>\n",
       "      <td>-0.442</td>\n",
       "    </tr>\n",
       "    <tr>\n",
       "      <th>4</th>\n",
       "      <td>5</td>\n",
       "      <td>AL</td>\n",
       "      <td>1</td>\n",
       "      <td>2018-01-05</td>\n",
       "      <td>stable</td>\n",
       "      <td>0.013</td>\n",
       "      <td>-8.308</td>\n",
       "      <td>2.945</td>\n",
       "      <td>-2.681</td>\n",
       "    </tr>\n",
       "  </tbody>\n",
       "</table>\n",
       "</div>"
      ],
      "text/plain": [
       "   Unnamed: 0 Shipping Address State  st_code       date stability    ppt  \\\n",
       "0           1                     AL        1 2018-01-01    stable  1.602   \n",
       "1           2                     AL        1 2018-01-02    stable  0.002   \n",
       "2           3                     AL        1 2018-01-03    stable  0.000   \n",
       "3           4                     AL        1 2018-01-04    stable  0.000   \n",
       "4           5                     AL        1 2018-01-05    stable  0.013   \n",
       "\n",
       "    tmin   tmax   tavg  \n",
       "0 -7.569  3.303 -2.133  \n",
       "1 -9.746 -0.868 -5.307  \n",
       "2 -9.822  2.161 -3.830  \n",
       "3 -5.802  4.918 -0.442  \n",
       "4 -8.308  2.945 -2.681  "
      ]
     },
     "execution_count": 12,
     "metadata": {},
     "output_type": "execute_result"
    }
   ],
   "source": [
    "weather[\"date\"] = pd.to_datetime(weather[\"date\"], format=\"%Y%m%d\")\n",
    "weather.rename(columns={\"st_abb\": \"Shipping Address State\"}, inplace=True)\n",
    "weather.head()"
   ]
  },
  {
   "cell_type": "code",
   "execution_count": 13,
   "metadata": {},
   "outputs": [],
   "source": [
    "# Joining weather\n",
    "\n",
    "data_combined = pd.merge(\n",
    "    left=amazon_data, \n",
    "    right=weather,\n",
    "    how='left',\n",
    "    left_on=['Shipping Address State', 'Order Date'],\n",
    "    right_on=['Shipping Address State', 'date'],\n",
    ")"
   ]
  },
  {
   "cell_type": "code",
   "execution_count": 14,
   "metadata": {},
   "outputs": [
    {
     "data": {
      "text/plain": [
       "Shipping Address State\n",
       "AK                                            0\n",
       "AL                                        18830\n",
       "AR                                        14859\n",
       "AZ                                        34273\n",
       "CA                                       187520\n",
       "CO                                        30697\n",
       "CT                                        18021\n",
       "DC                                            0\n",
       "DE                                         7723\n",
       "FL                                       115704\n",
       "GA                                        56123\n",
       "HI                                            0\n",
       "I did not reside in the United States         0\n",
       "IA                                        11441\n",
       "ID                                         6528\n",
       "IL                                        76102\n",
       "IN                                        46960\n",
       "KS                                        16386\n",
       "KY                                        28466\n",
       "LA                                        20973\n",
       "MA                                        46929\n",
       "MD                                        35552\n",
       "ME                                         6902\n",
       "MI                                        62691\n",
       "MN                                        30909\n",
       "MO                                        20224\n",
       "MS                                        11904\n",
       "MT                                         2814\n",
       "NC                                        76975\n",
       "ND                                         1040\n",
       "NE                                        12766\n",
       "NH                                        12381\n",
       "NJ                                        47364\n",
       "NM                                         9869\n",
       "NV                                        21976\n",
       "NY                                       109588\n",
       "OH                                        90567\n",
       "OK                                        18381\n",
       "OR                                        38323\n",
       "PA                                       104136\n",
       "RI                                         5637\n",
       "SC                                        20013\n",
       "SD                                         2539\n",
       "TN                                        36122\n",
       "TX                                       141674\n",
       "UT                                        14108\n",
       "VA                                        53174\n",
       "VT                                         3891\n",
       "WA                                        55189\n",
       "WI                                        38515\n",
       "WV                                        11238\n",
       "WY                                          873\n",
       "Name: tavg, dtype: int64"
      ]
     },
     "execution_count": 14,
     "metadata": {},
     "output_type": "execute_result"
    }
   ],
   "source": [
    "# Check for which states we have no temperature information\n",
    "# AK, DC, HI, I did not reside in the United States\n",
    "# We still leave them in the dataset for completnes \n",
    "\n",
    "data_grouped = data_combined.groupby(\"Shipping Address State\")\n",
    "data_grouped[\"tavg\"].count()"
   ]
  },
  {
   "cell_type": "markdown",
   "metadata": {},
   "source": [
    "## CHECKPOINT Saving complete combined dataset"
   ]
  },
  {
   "cell_type": "code",
   "execution_count": 15,
   "metadata": {},
   "outputs": [],
   "source": [
    "data_combined.to_csv('./data/data_combined.csv')"
   ]
  }
 ],
 "metadata": {
  "kernelspec": {
   "display_name": "base",
   "language": "python",
   "name": "python3"
  },
  "language_info": {
   "codemirror_mode": {
    "name": "ipython",
    "version": 3
   },
   "file_extension": ".py",
   "mimetype": "text/x-python",
   "name": "python",
   "nbconvert_exporter": "python",
   "pygments_lexer": "ipython3",
   "version": "3.11.3"
  }
 },
 "nbformat": 4,
 "nbformat_minor": 2
}
