{
 "cells": [
  {
   "cell_type": "code",
   "execution_count": 1,
   "metadata": {},
   "outputs": [],
   "source": [
    "import pandas as pd\n",
    "import matplotlib as plt"
   ]
  },
  {
   "cell_type": "code",
   "execution_count": 2,
   "metadata": {},
   "outputs": [],
   "source": [
    "transactions = pd.read_csv(\"./Data/amazon-purchases.csv\")"
   ]
  },
  {
   "cell_type": "code",
   "execution_count": null,
   "metadata": {},
   "outputs": [
    {
     "name": "stdout",
     "output_type": "stream",
     "text": [
      "   Order Date  Purchase Price Per Unit  Quantity Shipping Address State  \\\n",
      "0  2018-12-04                     7.98       1.0                     NJ   \n",
      "1  2018-12-22                    13.99       1.0                     NJ   \n",
      "2  2018-12-24                     8.99       1.0                     NJ   \n",
      "3  2018-12-25                    10.45       1.0                     NJ   \n",
      "4  2018-12-25                    10.00       1.0                     NJ   \n",
      "\n",
      "                                               Title ASIN/ISBN (Product Code)  \\\n",
      "0  SanDisk Ultra 16GB Class 10 SDHC UHS-I Memory ...               B0143RTB1E   \n",
      "1  Betron BS10 Earphones Wired Headphones in Ear ...               B01MA1MJ6H   \n",
      "2                                                NaN               B078JZTFN3   \n",
      "3  Perfecto Stainless Steel Shaving Bowl. Durable...               B06XWF9HML   \n",
      "4                      Proraso Shaving Cream for Men               B00837ZOI0   \n",
      "\n",
      "        Category  Survey ResponseID  \n",
      "0   FLASH_MEMORY  R_01vNIayewjIIKMF  \n",
      "1     HEADPHONES  R_01vNIayewjIIKMF  \n",
      "2            NaN  R_01vNIayewjIIKMF  \n",
      "3  DISHWARE_BOWL  R_01vNIayewjIIKMF  \n",
      "4  SHAVING_AGENT  R_01vNIayewjIIKMF  \n",
      "<class 'pandas.core.frame.DataFrame'>\n"
     ]
    }
   ],
   "source": [
    "print(transactions.head())"
   ]
  },
  {
   "cell_type": "code",
   "execution_count": 66,
   "metadata": {},
   "outputs": [],
   "source": [
    "transactions[\"Order Date\"] = pd.to_datetime(transactions[\"Order Date\"])"
   ]
  },
  {
   "cell_type": "markdown",
   "metadata": {},
   "source": [
    "## Todo \n",
    "#Most of missing values in Shipping address State can be replaced by looking at customer survey ID (customer identifactor) -> if same customer we can asume same delivery address and fill in missing values \n",
    "#-> Maybe add additonal check if there is a transaction on the same date to be 100% sure"
   ]
  },
  {
   "cell_type": "code",
   "execution_count": null,
   "metadata": {},
   "outputs": [],
   "source": [
    "# Sort Survey ResponseID & Date \n",
    "# Check if value in \"Shipping Address State\" == NaN\n",
    "# if yes == check if row-1 same Survey ResponseID \n",
    "    # True: Fill NaN with Shipping Address State else: 0"
   ]
  },
  {
   "cell_type": "code",
   "execution_count": 82,
   "metadata": {},
   "outputs": [],
   "source": [
    "transactions_sorted = transactions.sort_values([\"Survey ResponseID\", \"Order Date\"], ascending=[True, True])"
   ]
  },
  {
   "cell_type": "code",
   "execution_count": null,
   "metadata": {},
   "outputs": [],
   "source": [
    "def replace_missing_state(df, col_replace, col_reverence):\n"
   ]
  },
  {
   "cell_type": "code",
   "execution_count": null,
   "metadata": {},
   "outputs": [],
   "source": []
  },
  {
   "cell_type": "code",
   "execution_count": 79,
   "metadata": {},
   "outputs": [
    {
     "data": {
      "text/plain": [
       "0           NJ\n",
       "1           NJ\n",
       "2           NJ\n",
       "3           NJ\n",
       "4           NJ\n",
       "          ... \n",
       "1850712     MA\n",
       "1850713     MA\n",
       "1850714     MA\n",
       "1850715     MA\n",
       "1850716    NaN\n",
       "Name: Shipping Address State, Length: 1850717, dtype: object"
      ]
     },
     "execution_count": 79,
     "metadata": {},
     "output_type": "execute_result"
    }
   ],
   "source": [
    "transactions[\"Shipping Address State\"]"
   ]
  },
  {
   "cell_type": "markdown",
   "metadata": {},
   "source": [
    "## Adding customer information"
   ]
  },
  {
   "cell_type": "code",
   "execution_count": 67,
   "metadata": {},
   "outputs": [],
   "source": [
    "customers = pd.read_csv(\"./Data/survey.csv\")"
   ]
  },
  {
   "cell_type": "markdown",
   "metadata": {},
   "source": [
    "### Mergin Dataframes"
   ]
  },
  {
   "cell_type": "code",
   "execution_count": 68,
   "metadata": {},
   "outputs": [],
   "source": [
    "amazon_data = transactions.merge(customers, on=\"Survey ResponseID\", how=\"left\")"
   ]
  },
  {
   "cell_type": "markdown",
   "metadata": {},
   "source": [
    "## Adding Temperature information"
   ]
  },
  {
   "cell_type": "code",
   "execution_count": 77,
   "metadata": {},
   "outputs": [
    {
     "name": "stdout",
     "output_type": "stream",
     "text": [
      "48\n"
     ]
    },
    {
     "data": {
      "text/html": [
       "<div>\n",
       "<style scoped>\n",
       "    .dataframe tbody tr th:only-of-type {\n",
       "        vertical-align: middle;\n",
       "    }\n",
       "\n",
       "    .dataframe tbody tr th {\n",
       "        vertical-align: top;\n",
       "    }\n",
       "\n",
       "    .dataframe thead th {\n",
       "        text-align: right;\n",
       "    }\n",
       "</style>\n",
       "<table border=\"1\" class=\"dataframe\">\n",
       "  <thead>\n",
       "    <tr style=\"text-align: right;\">\n",
       "      <th></th>\n",
       "      <th>Unnamed: 0</th>\n",
       "      <th>st_abb</th>\n",
       "      <th>st_code</th>\n",
       "      <th>date</th>\n",
       "      <th>stability</th>\n",
       "      <th>ppt</th>\n",
       "      <th>tmin</th>\n",
       "      <th>tmax</th>\n",
       "      <th>tavg</th>\n",
       "    </tr>\n",
       "  </thead>\n",
       "  <tbody>\n",
       "    <tr>\n",
       "      <th>0</th>\n",
       "      <td>1</td>\n",
       "      <td>AL</td>\n",
       "      <td>1</td>\n",
       "      <td>20180101</td>\n",
       "      <td>stable</td>\n",
       "      <td>1.602</td>\n",
       "      <td>-7.569</td>\n",
       "      <td>3.303</td>\n",
       "      <td>-2.133</td>\n",
       "    </tr>\n",
       "    <tr>\n",
       "      <th>1</th>\n",
       "      <td>2</td>\n",
       "      <td>AL</td>\n",
       "      <td>1</td>\n",
       "      <td>20180102</td>\n",
       "      <td>stable</td>\n",
       "      <td>0.002</td>\n",
       "      <td>-9.746</td>\n",
       "      <td>-0.868</td>\n",
       "      <td>-5.307</td>\n",
       "    </tr>\n",
       "    <tr>\n",
       "      <th>2</th>\n",
       "      <td>3</td>\n",
       "      <td>AL</td>\n",
       "      <td>1</td>\n",
       "      <td>20180103</td>\n",
       "      <td>stable</td>\n",
       "      <td>0.000</td>\n",
       "      <td>-9.822</td>\n",
       "      <td>2.161</td>\n",
       "      <td>-3.830</td>\n",
       "    </tr>\n",
       "    <tr>\n",
       "      <th>3</th>\n",
       "      <td>4</td>\n",
       "      <td>AL</td>\n",
       "      <td>1</td>\n",
       "      <td>20180104</td>\n",
       "      <td>stable</td>\n",
       "      <td>0.000</td>\n",
       "      <td>-5.802</td>\n",
       "      <td>4.918</td>\n",
       "      <td>-0.442</td>\n",
       "    </tr>\n",
       "    <tr>\n",
       "      <th>4</th>\n",
       "      <td>5</td>\n",
       "      <td>AL</td>\n",
       "      <td>1</td>\n",
       "      <td>20180105</td>\n",
       "      <td>stable</td>\n",
       "      <td>0.013</td>\n",
       "      <td>-8.308</td>\n",
       "      <td>2.945</td>\n",
       "      <td>-2.681</td>\n",
       "    </tr>\n",
       "  </tbody>\n",
       "</table>\n",
       "</div>"
      ],
      "text/plain": [
       "   Unnamed: 0 st_abb  st_code      date stability    ppt   tmin   tmax   tavg\n",
       "0           1     AL        1  20180101    stable  1.602 -7.569  3.303 -2.133\n",
       "1           2     AL        1  20180102    stable  0.002 -9.746 -0.868 -5.307\n",
       "2           3     AL        1  20180103    stable  0.000 -9.822  2.161 -3.830\n",
       "3           4     AL        1  20180104    stable  0.000 -5.802  4.918 -0.442\n",
       "4           5     AL        1  20180105    stable  0.013 -8.308  2.945 -2.681"
      ]
     },
     "execution_count": 77,
     "metadata": {},
     "output_type": "execute_result"
    }
   ],
   "source": [
    "weather = pd.read_csv(\"./Data/weather_data.csv\")\n",
    "\n",
    "print(weather[\"st_abb\"].nunique()) # No weather information for Alaska and Hawaii\n",
    "weather.head()"
   ]
  },
  {
   "cell_type": "code",
   "execution_count": 78,
   "metadata": {},
   "outputs": [
    {
     "data": {
      "text/html": [
       "<div>\n",
       "<style scoped>\n",
       "    .dataframe tbody tr th:only-of-type {\n",
       "        vertical-align: middle;\n",
       "    }\n",
       "\n",
       "    .dataframe tbody tr th {\n",
       "        vertical-align: top;\n",
       "    }\n",
       "\n",
       "    .dataframe thead th {\n",
       "        text-align: right;\n",
       "    }\n",
       "</style>\n",
       "<table border=\"1\" class=\"dataframe\">\n",
       "  <thead>\n",
       "    <tr style=\"text-align: right;\">\n",
       "      <th></th>\n",
       "      <th>Unnamed: 0</th>\n",
       "      <th>st_abb</th>\n",
       "      <th>st_code</th>\n",
       "      <th>date</th>\n",
       "      <th>stability</th>\n",
       "      <th>ppt</th>\n",
       "      <th>tmin</th>\n",
       "      <th>tmax</th>\n",
       "      <th>tavg</th>\n",
       "    </tr>\n",
       "  </thead>\n",
       "  <tbody>\n",
       "    <tr>\n",
       "      <th>0</th>\n",
       "      <td>1</td>\n",
       "      <td>AL</td>\n",
       "      <td>1</td>\n",
       "      <td>2018-01-01</td>\n",
       "      <td>stable</td>\n",
       "      <td>1.602</td>\n",
       "      <td>-7.569</td>\n",
       "      <td>3.303</td>\n",
       "      <td>-2.133</td>\n",
       "    </tr>\n",
       "    <tr>\n",
       "      <th>1</th>\n",
       "      <td>2</td>\n",
       "      <td>AL</td>\n",
       "      <td>1</td>\n",
       "      <td>2018-01-02</td>\n",
       "      <td>stable</td>\n",
       "      <td>0.002</td>\n",
       "      <td>-9.746</td>\n",
       "      <td>-0.868</td>\n",
       "      <td>-5.307</td>\n",
       "    </tr>\n",
       "    <tr>\n",
       "      <th>2</th>\n",
       "      <td>3</td>\n",
       "      <td>AL</td>\n",
       "      <td>1</td>\n",
       "      <td>2018-01-03</td>\n",
       "      <td>stable</td>\n",
       "      <td>0.000</td>\n",
       "      <td>-9.822</td>\n",
       "      <td>2.161</td>\n",
       "      <td>-3.830</td>\n",
       "    </tr>\n",
       "    <tr>\n",
       "      <th>3</th>\n",
       "      <td>4</td>\n",
       "      <td>AL</td>\n",
       "      <td>1</td>\n",
       "      <td>2018-01-04</td>\n",
       "      <td>stable</td>\n",
       "      <td>0.000</td>\n",
       "      <td>-5.802</td>\n",
       "      <td>4.918</td>\n",
       "      <td>-0.442</td>\n",
       "    </tr>\n",
       "    <tr>\n",
       "      <th>4</th>\n",
       "      <td>5</td>\n",
       "      <td>AL</td>\n",
       "      <td>1</td>\n",
       "      <td>2018-01-05</td>\n",
       "      <td>stable</td>\n",
       "      <td>0.013</td>\n",
       "      <td>-8.308</td>\n",
       "      <td>2.945</td>\n",
       "      <td>-2.681</td>\n",
       "    </tr>\n",
       "  </tbody>\n",
       "</table>\n",
       "</div>"
      ],
      "text/plain": [
       "   Unnamed: 0 st_abb  st_code       date stability    ppt   tmin   tmax   tavg\n",
       "0           1     AL        1 2018-01-01    stable  1.602 -7.569  3.303 -2.133\n",
       "1           2     AL        1 2018-01-02    stable  0.002 -9.746 -0.868 -5.307\n",
       "2           3     AL        1 2018-01-03    stable  0.000 -9.822  2.161 -3.830\n",
       "3           4     AL        1 2018-01-04    stable  0.000 -5.802  4.918 -0.442\n",
       "4           5     AL        1 2018-01-05    stable  0.013 -8.308  2.945 -2.681"
      ]
     },
     "execution_count": 78,
     "metadata": {},
     "output_type": "execute_result"
    }
   ],
   "source": [
    "weather[\"date\"] = pd.to_datetime(weather[\"date\"], format=\"%Y%m%d\")\n",
    "weather.head()"
   ]
  },
  {
   "cell_type": "code",
   "execution_count": 6,
   "metadata": {},
   "outputs": [],
   "source": [
    "Fashion = [\n",
    "    \"ACCESSORY\", \"ADULT_COSTUME\", \"APPAREL\", \"APPAREL_BELT\", \"APPAREL_GLOVES\",\n",
    "    \"APPAREL_HEAD_NECK_COVERING\", \"APPAREL_PIN\", \"APPENDAGE_WARMER\", \"APRON\",\n",
    "    \"ARM_SLEEVE\", \"Apparel\", \"BABY_JUMPER_WALKER\", \"BELTS\", \"BLAZER\",\n",
    "    \"BLUE_LIGHT_BLOCKING_EYEGLASSES\", \"BODYSTOCKING\", \"BOOT\", \"BRA\", \"BRACELET\",\n",
    "    \"BRA_UNDERWEAR_SET\", \"CHOLI\", \"COAT\", \"COORDINATED_OUTFIT\", \"CORRECTIVE_EYEGLASSES\",\n",
    "    \"CORSET\", \"DRESS\", \"DUPATTA\", \"EARMUFF\", \"EARRING\", \"ETHNIC_WEAR\",\n",
    "    \"FASHIONEARRING\", \"FASHIONNECKLACEBRACELETANKLET\", \"FASHIONOTHER\", \"FASHIONRING\",\n",
    "    \"FASHION_JEWELRY\", \"FINEEARRING\", \"FINENECKLACEBRACELETANKLET\", \"FINERING\",\n",
    "    \"FOOTWEAR\", \"GUILD_APPAREL\", \"GUILD_JEWELRY\", \"GUILD_SHOES\", \"HAT\", \"HOSIERY\",\n",
    "    \"JEWELRY\", \"JEWELRY_SET\", \"KIMONO\", \"KURTA\", \"LEG_SLEEVE\", \"LEOTARD\",\n",
    "    \"MOISTURIZING_SOCK_GLOVE\", \"NECKLACE\", \"NECKTIE\", \"NIGHTGOWN_NIGHTSHIRT\",\n",
    "    \"ORCA_SHIRT\", \"OUTERWEAR\", \"OVERALLS\", \"PAJAMAS\", \"PANTS\", \"PIERCING_JEWELRY\",\n",
    "    \"ROBE\", \"SANDAL\", \"SAREE\", \"SHIRT\", \"SHOES\", \"SHORTS\", \"SKIRT\", \"SLEEPWEAR\",\n",
    "    \"SLIPPER\", \"SNOWSHOE\", \"SNOWSUIT\", \"SNOW_PANT\", \"SOCK\", \"SOCKSHOSIERY\", \"SUIT\",\n",
    "    \"SUNGLASSES\", \"SUSPENDER\", \"SWEATER\", \"SWEATSHIRT\", \"SWIMWEAR\", \"SWIM_CAP\",\n",
    "    \"TIGHTS\", \"TRACK_SUIT\", \"UNDERPANTS\", \"UNDERWEAR\", \"UNDERGARMENT_SLIP\",\n",
    "    \"UNDERGARMENT_THIGH_SLIMMER\", \"UNION_SUIT\", \"VEST\", \"WATCH\", \"WATCHES\", \"WATCH_BAND\"\n",
    "]\n",
    "\n",
    "\n",
    "Groceries = [\n",
    "   \"ALCOHOLIC_BEVERAGE\", \"BABY_FOOD\", \"BABY_FORMULA\", \"BAKING_CHOCOLATE\", \"BEER\",\n",
    "   \"BEVERAGE\", \"BREAD\", \"BREAKFAST_CEREAL\", \"CAKE\", \"CANDY\", \"CEREAL\",\n",
    "   \"CHOCOLATE_CANDY\", \"COFFEE\", \"CONDIMENT\", \"COOKIE\", \"CRACKER\", \"CULINARY_SALT\",\n",
    "   \"DAIRY_BASED_BUTTER\", \"DAIRY_BASED_CHEESE\", \"DAIRY_BASED_CREAM\",\n",
    "   \"DAIRY_BASED_DRINK\", \"DAIRY_BASED_ICE_CREAM\", \"DAIRY_BASED_PUDDING\",\n",
    "   \"DAIRY_BASED_YOGURT\", \"DONUT\", \"DRINK_FLAVORED\", \"EDIBLE_OIL_VEGETABLE\",\n",
    "   \"FLOUR\", \"FRUIT\", \"FRUIT_SNACK\", \"FUDGE\", \"GOURMET_FOOD\", \"GROCERY\", \"Grocery\",\n",
    "   \"HEALTH_FOOD\", \"HONEY\", \"JERKY\", \"JUICE_AND_JUICE_DRINK\", \"LEGUME\",\n",
    "   \"MEAL_REPLACEMENT_BEVERAGE\", \"MEAT_ALTERNATIVE\", \"MILK_SUBSTITUTE\",\n",
    "   \"NON_DAIRY_CHEESE\", \"NON_DAIRY_CREAM\", \"NON_DAIRY_ICE_CREAM\",\n",
    "   \"NON_DAIRY_PUDDING\", \"NON_DAIRY_YOGURT\", \"NOODLE\", \"NUTS\", \"NUT_AND_SEED\",\n",
    "   \"NUT_BUTTER\", \"OLIVE\", \"PACKAGED_SOUP_AND_STEW\", \"PASTRY\", \"POPCORN\",\n",
    "   \"PRETZEL\", \"PROTEIN_DRINK\", \"PROTEIN_SUPPLEMENT_POWDER\", \"PUFFED_SNACK\",\n",
    "   \"RICE_MIX\", \"RICE_WINE\", \"SALAD_DRESSING\", \"SEAFOOD\", \"SEASONING\",\n",
    "   \"SNACK_CHIP_AND_CRISP\", \"SNACK_FOOD\", \"SNACK_FOOD_BAR\", \"SNACK_MIX\",\n",
    "   \"SPORTS_DRINK\", \"SUGAR\", \"SUGAR_CANDY\", \"SUGAR_SUBSTITUTE\", \"SYRUP\", \"TEA\",\n",
    "   \"TOFU\", \"VEGETABLE\", \"VEGETARIAN_EGG_SUBSTITUTE\", \"WATER\"\n",
    "]"
   ]
  },
  {
   "cell_type": "markdown",
   "metadata": {},
   "source": [
    "## Filtering for the Categories"
   ]
  },
  {
   "cell_type": "code",
   "execution_count": 69,
   "metadata": {},
   "outputs": [],
   "source": [
    "mask_fashion = amazon_data[\"Category\"].isin(Fashion)\n",
    "Fashion_transactions = amazon_data[mask_fashion]\n",
    "\n",
    "\n",
    "mask_groceries = amazon_data[\"Category\"].isin(Groceries)\n",
    "Grocerie_transactions = amazon_data[mask_groceries]"
   ]
  },
  {
   "cell_type": "code",
   "execution_count": 70,
   "metadata": {},
   "outputs": [
    {
     "name": "stdout",
     "output_type": "stream",
     "text": [
      "91\n",
      "78\n"
     ]
    }
   ],
   "source": [
    "print(Fashion_transactions[\"Category\"].nunique()) # One Category seems to be missing (maybe typo), or upper and lower letters\n",
    "print(Grocerie_transactions[\"Category\"].nunique())"
   ]
  },
  {
   "cell_type": "code",
   "execution_count": 71,
   "metadata": {},
   "outputs": [
    {
     "name": "stdout",
     "output_type": "stream",
     "text": [
      "Missing Values Fashion:\n",
      "Order Date                         0\n",
      "Purchase Price Per Unit            0\n",
      "Quantity                           0\n",
      "Shipping Address State          3765\n",
      "Title                             47\n",
      "ASIN/ISBN (Product Code)          94\n",
      "Category                           0\n",
      "Survey ResponseID                  0\n",
      "Q-demos-age                        0\n",
      "Q-demos-hispanic                   0\n",
      "Q-demos-race                       0\n",
      "Q-demos-education                  0\n",
      "Q-demos-income                     0\n",
      "Q-demos-gender                     0\n",
      "Q-sexual-orientation               0\n",
      "Q-demos-state                      0\n",
      "Q-amazon-use-howmany               0\n",
      "Q-amazon-use-hh-size               0\n",
      "Q-amazon-use-how-oft               0\n",
      "Q-substance-use-cigarettes         0\n",
      "Q-substance-use-marijuana          0\n",
      "Q-substance-use-alcohol            0\n",
      "Q-personal-diabetes                0\n",
      "Q-personal-wheelchair              0\n",
      "Q-life-changes                106531\n",
      "Q-sell-YOUR-data                   0\n",
      "Q-sell-consumer-data               0\n",
      "Q-small-biz-use                    0\n",
      "Q-census-use                       0\n",
      "Q-research-society                 0\n",
      "dtype: int64\n",
      "Missing Values Groceries:\n",
      "Order Date                         0\n",
      "Purchase Price Per Unit            0\n",
      "Quantity                           0\n",
      "Shipping Address State          6348\n",
      "Title                             39\n",
      "ASIN/ISBN (Product Code)          13\n",
      "Category                           0\n",
      "Survey ResponseID                  0\n",
      "Q-demos-age                        0\n",
      "Q-demos-hispanic                   0\n",
      "Q-demos-race                       0\n",
      "Q-demos-education                  0\n",
      "Q-demos-income                     0\n",
      "Q-demos-gender                     0\n",
      "Q-sexual-orientation               0\n",
      "Q-demos-state                      0\n",
      "Q-amazon-use-howmany               0\n",
      "Q-amazon-use-hh-size               0\n",
      "Q-amazon-use-how-oft               0\n",
      "Q-substance-use-cigarettes         0\n",
      "Q-substance-use-marijuana          0\n",
      "Q-substance-use-alcohol            0\n",
      "Q-personal-diabetes                0\n",
      "Q-personal-wheelchair              0\n",
      "Q-life-changes                120206\n",
      "Q-sell-YOUR-data                   0\n",
      "Q-sell-consumer-data               0\n",
      "Q-small-biz-use                    0\n",
      "Q-census-use                       0\n",
      "Q-research-society                 0\n",
      "dtype: int64\n"
     ]
    }
   ],
   "source": [
    "print(f\"Missing Values Fashion:\\n{Fashion_transactions.isna().sum()}\")\n",
    "print(f\"Missing Values Groceries:\\n{Grocerie_transactions.isna().sum()}\")"
   ]
  },
  {
   "cell_type": "markdown",
   "metadata": {},
   "source": []
  },
  {
   "cell_type": "code",
   "execution_count": null,
   "metadata": {},
   "outputs": [],
   "source": []
  }
 ],
 "metadata": {
  "kernelspec": {
   "display_name": "base",
   "language": "python",
   "name": "python3"
  },
  "language_info": {
   "codemirror_mode": {
    "name": "ipython",
    "version": 3
   },
   "file_extension": ".py",
   "mimetype": "text/x-python",
   "name": "python",
   "nbconvert_exporter": "python",
   "pygments_lexer": "ipython3",
   "version": "3.11.3"
  }
 },
 "nbformat": 4,
 "nbformat_minor": 2
}
