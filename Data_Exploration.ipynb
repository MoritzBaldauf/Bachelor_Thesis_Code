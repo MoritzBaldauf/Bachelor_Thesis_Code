{
 "cells": [
  {
   "cell_type": "code",
   "execution_count": 6,
   "metadata": {},
   "outputs": [],
   "source": [
    "import pandas as pd\n",
    "import matplotlib as plt"
   ]
  },
  {
   "cell_type": "code",
   "execution_count": 18,
   "metadata": {},
   "outputs": [],
   "source": [
    "transactions = pd.read_csv(\"./Data/amazon-purchases.csv\")"
   ]
  },
  {
   "cell_type": "code",
   "execution_count": null,
   "metadata": {},
   "outputs": [
    {
     "name": "stdout",
     "output_type": "stream",
     "text": [
      "   Order Date  Purchase Price Per Unit  Quantity Shipping Address State  \\\n",
      "0  2018-12-04                     7.98       1.0                     NJ   \n",
      "1  2018-12-22                    13.99       1.0                     NJ   \n",
      "2  2018-12-24                     8.99       1.0                     NJ   \n",
      "3  2018-12-25                    10.45       1.0                     NJ   \n",
      "4  2018-12-25                    10.00       1.0                     NJ   \n",
      "\n",
      "                                               Title ASIN/ISBN (Product Code)  \\\n",
      "0  SanDisk Ultra 16GB Class 10 SDHC UHS-I Memory ...               B0143RTB1E   \n",
      "1  Betron BS10 Earphones Wired Headphones in Ear ...               B01MA1MJ6H   \n",
      "2                                                NaN               B078JZTFN3   \n",
      "3  Perfecto Stainless Steel Shaving Bowl. Durable...               B06XWF9HML   \n",
      "4                      Proraso Shaving Cream for Men               B00837ZOI0   \n",
      "\n",
      "        Category  Survey ResponseID  \n",
      "0   FLASH_MEMORY  R_01vNIayewjIIKMF  \n",
      "1     HEADPHONES  R_01vNIayewjIIKMF  \n",
      "2            NaN  R_01vNIayewjIIKMF  \n",
      "3  DISHWARE_BOWL  R_01vNIayewjIIKMF  \n",
      "4  SHAVING_AGENT  R_01vNIayewjIIKMF  \n"
     ]
    }
   ],
   "source": [
    "print(transactions.head())"
   ]
  },
  {
   "cell_type": "code",
   "execution_count": 33,
   "metadata": {},
   "outputs": [
    {
     "name": "stdout",
     "output_type": "stream",
     "text": [
      "Order Date                  datetime64[ns]\n",
      "Purchase Price Per Unit            float64\n",
      "Quantity                           float64\n",
      "Shipping Address State              object\n",
      "Title                               object\n",
      "ASIN/ISBN (Product Code)            object\n",
      "Category                            object\n",
      "Survey ResponseID                   object\n",
      "dtype: object\n"
     ]
    }
   ],
   "source": [
    "transactions[\"Order Date\"] = pd.to_datetime(transactions[\"Order Date\"], format = \"%y%m%d\")\n",
    "\n",
    "\n",
    "print(transactions.dtypes)"
   ]
  },
  {
   "cell_type": "code",
   "execution_count": 38,
   "metadata": {},
   "outputs": [
    {
     "data": {
      "text/plain": [
       "1872"
      ]
     },
     "execution_count": 38,
     "metadata": {},
     "output_type": "execute_result"
    }
   ],
   "source": [
    "uniq_cat = transactions[\"Category\"].unique()\n",
    "len(uniq_cat)"
   ]
  }
 ],
 "metadata": {
  "kernelspec": {
   "display_name": ".venv",
   "language": "python",
   "name": "python3"
  },
  "language_info": {
   "codemirror_mode": {
    "name": "ipython",
    "version": 3
   },
   "file_extension": ".py",
   "mimetype": "text/x-python",
   "name": "python",
   "nbconvert_exporter": "python",
   "pygments_lexer": "ipython3",
   "version": "3.11.0"
  }
 },
 "nbformat": 4,
 "nbformat_minor": 2
}
